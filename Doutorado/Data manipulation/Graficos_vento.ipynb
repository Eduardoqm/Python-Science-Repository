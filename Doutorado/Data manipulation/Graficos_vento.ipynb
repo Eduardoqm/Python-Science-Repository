{
 "cells": [
  {
   "cell_type": "code",
   "execution_count": 1,
   "metadata": {},
   "outputs": [],
   "source": [
    "#Importa o panda, o image e o pyplot do matplotlib\n",
    "import pandas as pd\n",
    "import matplotlib.pyplot as plt\n",
    "import numpy as np"
   ]
  },
  {
   "cell_type": "code",
   "execution_count": 2,
   "metadata": {},
   "outputs": [],
   "source": [
    "#Chama e da nome a planilha\n",
    "storm_data=pd.read_excel(\"C:/Users/Eduardo Q Marques/Documents/My Jobs/Doutorado/Campo vento/planilha_campo_vento2019_B.xlsx\")"
   ]
  },
  {
   "cell_type": "code",
   "execution_count": 15,
   "metadata": {},
   "outputs": [],
   "source": [
    "#Ver a planilha\n",
    "#storm_data"
   ]
  },
  {
   "cell_type": "code",
   "execution_count": 4,
   "metadata": {},
   "outputs": [
    {
     "data": {
      "text/html": [
       "<div>\n",
       "<style scoped>\n",
       "    .dataframe tbody tr th:only-of-type {\n",
       "        vertical-align: middle;\n",
       "    }\n",
       "\n",
       "    .dataframe tbody tr th {\n",
       "        vertical-align: top;\n",
       "    }\n",
       "\n",
       "    .dataframe thead th {\n",
       "        text-align: right;\n",
       "    }\n",
       "</style>\n",
       "<table border=\"1\" class=\"dataframe\">\n",
       "  <thead>\n",
       "    <tr style=\"text-align: right;\">\n",
       "      <th></th>\n",
       "      <th>Unnamed: 0</th>\n",
       "      <th>Placa</th>\n",
       "      <th>linha</th>\n",
       "      <th>alt_cic</th>\n",
       "      <th>direcao</th>\n",
       "      <th>altura_quebra</th>\n",
       "    </tr>\n",
       "  </thead>\n",
       "  <tbody>\n",
       "    <tr>\n",
       "      <th>count</th>\n",
       "      <td>656.000000</td>\n",
       "      <td>307.000000</td>\n",
       "      <td>104.000000</td>\n",
       "      <td>60.000000</td>\n",
       "      <td>224.000000</td>\n",
       "      <td>158.000000</td>\n",
       "    </tr>\n",
       "    <tr>\n",
       "      <th>mean</th>\n",
       "      <td>330.039634</td>\n",
       "      <td>34071.107492</td>\n",
       "      <td>17.951923</td>\n",
       "      <td>1.085000</td>\n",
       "      <td>281.558036</td>\n",
       "      <td>4.234494</td>\n",
       "    </tr>\n",
       "    <tr>\n",
       "      <th>std</th>\n",
       "      <td>189.989325</td>\n",
       "      <td>29266.855709</td>\n",
       "      <td>8.564297</td>\n",
       "      <td>0.820051</td>\n",
       "      <td>103.325799</td>\n",
       "      <td>3.494349</td>\n",
       "    </tr>\n",
       "    <tr>\n",
       "      <th>min</th>\n",
       "      <td>1.000000</td>\n",
       "      <td>9.000000</td>\n",
       "      <td>1.000000</td>\n",
       "      <td>0.100000</td>\n",
       "      <td>0.000000</td>\n",
       "      <td>0.100000</td>\n",
       "    </tr>\n",
       "    <tr>\n",
       "      <th>25%</th>\n",
       "      <td>165.750000</td>\n",
       "      <td>5917.000000</td>\n",
       "      <td>9.750000</td>\n",
       "      <td>0.500000</td>\n",
       "      <td>290.000000</td>\n",
       "      <td>1.500000</td>\n",
       "    </tr>\n",
       "    <tr>\n",
       "      <th>50%</th>\n",
       "      <td>330.500000</td>\n",
       "      <td>31261.000000</td>\n",
       "      <td>19.000000</td>\n",
       "      <td>0.950000</td>\n",
       "      <td>319.500000</td>\n",
       "      <td>3.350000</td>\n",
       "    </tr>\n",
       "    <tr>\n",
       "      <th>75%</th>\n",
       "      <td>494.250000</td>\n",
       "      <td>72519.500000</td>\n",
       "      <td>26.000000</td>\n",
       "      <td>1.500000</td>\n",
       "      <td>339.250000</td>\n",
       "      <td>6.000000</td>\n",
       "    </tr>\n",
       "    <tr>\n",
       "      <th>max</th>\n",
       "      <td>658.000000</td>\n",
       "      <td>74553.000000</td>\n",
       "      <td>30.000000</td>\n",
       "      <td>4.500000</td>\n",
       "      <td>359.000000</td>\n",
       "      <td>15.000000</td>\n",
       "    </tr>\n",
       "  </tbody>\n",
       "</table>\n",
       "</div>"
      ],
      "text/plain": [
       "       Unnamed: 0         Placa       linha    alt_cic     direcao  \\\n",
       "count  656.000000    307.000000  104.000000  60.000000  224.000000   \n",
       "mean   330.039634  34071.107492   17.951923   1.085000  281.558036   \n",
       "std    189.989325  29266.855709    8.564297   0.820051  103.325799   \n",
       "min      1.000000      9.000000    1.000000   0.100000    0.000000   \n",
       "25%    165.750000   5917.000000    9.750000   0.500000  290.000000   \n",
       "50%    330.500000  31261.000000   19.000000   0.950000  319.500000   \n",
       "75%    494.250000  72519.500000   26.000000   1.500000  339.250000   \n",
       "max    658.000000  74553.000000   30.000000   4.500000  359.000000   \n",
       "\n",
       "       altura_quebra  \n",
       "count     158.000000  \n",
       "mean        4.234494  \n",
       "std         3.494349  \n",
       "min         0.100000  \n",
       "25%         1.500000  \n",
       "50%         3.350000  \n",
       "75%         6.000000  \n",
       "max        15.000000  "
      ]
     },
     "execution_count": 4,
     "metadata": {},
     "output_type": "execute_result"
    }
   ],
   "source": [
    "#Resume a tabela\n",
    "storm_data.describe()"
   ]
  },
  {
   "cell_type": "code",
   "execution_count": 6,
   "metadata": {},
   "outputs": [
    {
     "data": {
      "image/png": "[encoded data removed]",
      "text/plain": [
       "<Figure size 432x288 with 6 Axes>"
      ]
     },
     "metadata": {
      "needs_background": "light"
     },
     "output_type": "display_data"
    }
   ],
   "source": [
    "#Plota dados numericos\n",
    "hist_storm = storm_data.hist();"
   ]
  },
  {
   "cell_type": "code",
   "execution_count": 7,
   "metadata": {},
   "outputs": [
    {
     "name": "stderr",
     "output_type": "stream",
     "text": [
      "c:\\users\\eduardo q marques\\appdata\\local\\programs\\python\\python37-32\\lib\\site-packages\\numpy\\lib\\histograms.py:824: RuntimeWarning: invalid value encountered in greater_equal\n",
      "  keep = (tmp_a >= first_edge)\n",
      "c:\\users\\eduardo q marques\\appdata\\local\\programs\\python\\python37-32\\lib\\site-packages\\numpy\\lib\\histograms.py:825: RuntimeWarning: invalid value encountered in less_equal\n",
      "  keep &= (tmp_a <= last_edge)\n"
     ]
    }
   ],
   "source": [
    "#Salva o grafico altura da cicatriz\n",
    "plt.hist(storm_data.alt_cic)\n",
    "plt.ylabel('Numbers of trees')\n",
    "plt.xlabel('height (m)')\n",
    "plt.title('Scar height')\n",
    "plt.yscale('linear')\n",
    "plt.savefig('storm_cic.png',dpi=300)\n",
    "plt.close()\n",
    "\n",
    "#Salva o grafico altura da quebra\n",
    "plt.hist(storm_data.altura_quebra)\n",
    "plt.ylabel('Numbers of trees')\n",
    "plt.xlabel('height (m)')\n",
    "plt.title('Break height')\n",
    "plt.yscale('linear')\n",
    "plt.savefig('storm_quebra.png',dpi=300)\n",
    "plt.close()\n",
    "\n",
    "#Salva o grafico direcao do vento\n",
    "plt.hist(storm_data.direcao)\n",
    "plt.ylabel('Numbers of trees')\n",
    "plt.xlabel('degree (North)')\n",
    "plt.title('Fall direction')\n",
    "plt.yscale('linear')\n",
    "plt.savefig('storm_dir.png',dpi=300)\n",
    "plt.close()"
   ]
  },
  {
   "cell_type": "code",
   "execution_count": 8,
   "metadata": {},
   "outputs": [],
   "source": [
    "#Mudar nome das variaveis do tipo de dano (q,r,c)\n",
    "#Criar dicionario\n",
    "new_names = {'tipo_de_dano':{\n",
    "    'q':'Snapped',\n",
    "    'r':'Uprooted',\n",
    "    'c':'Crown damage'\n",
    "    }}\n",
    "\n",
    "#Trocar nome na planilha\n",
    "storm_data.replace(new_names, inplace=True)\n",
    "\n",
    "#Count das categorias (Para dados categoricos ex: quebrada, copa, raiz)\n",
    "tipo_dano = storm_data['tipo_de_dano'].value_counts()\n",
    "\n",
    "#Separar os dados de tipo de dano por plot\n",
    "tipo_dano_a = storm_data[storm_data['parcela']=='a']['tipo_de_dano'].value_counts()\n",
    "                         \n",
    "tipo_dano_b = storm_data[storm_data['parcela']=='b' ]['tipo_de_dano'].value_counts()\n",
    "                        \n",
    "tipo_dano_c = storm_data[storm_data['parcela']=='c'] ['tipo_de_dano'].value_counts()"
   ]
  },
  {
   "cell_type": "code",
   "execution_count": 9,
   "metadata": {},
   "outputs": [
    {
     "data": {
      "image/png": "[encoded data removed]",
      "text/plain": [
       "<Figure size 432x288 with 1 Axes>"
      ]
     },
     "metadata": {
      "needs_background": "light"
     },
     "output_type": "display_data"
    }
   ],
   "source": [
    "#Cria funcoao para pegar dados por parcela\n",
    "def get_by_parcela(name):\n",
    "    parcelas = {'c':'B1y',\n",
    "    'b':'B3y',\n",
    "    'a':'Control'}\n",
    "    df = storm_data[storm_data['parcela']==name]['tipo_de_dano'].value_counts()\n",
    "    df['area'] = parcelas[name]\n",
    "    return df\n",
    "\n",
    "def json_d(df):\n",
    "    return {\n",
    "            'Snapped':df['Snapped'],\n",
    "            'Uprooted':df['Uprooted'],\n",
    "            'Crown damage':df['Crown damage'],\n",
    "            ' ':df['area']\n",
    "        }\n",
    "\n",
    "parcelas = ['a','b','c']\n",
    "\n",
    "\n",
    "all_data =[json_d(x) for x in [get_by_parcela(y) for y in parcelas ]]\n",
    "df_all = pd.DataFrame(all_data)\n",
    "df_all=df_all.set_index(' ')\n",
    "df_all=df_all.T\n",
    "df_all.plot.bar(color = ['green','orange','yellow'])\n",
    "plt.ylabel('Numbers of trees')\n",
    "plt.xticks(rotation='0')\n",
    "plt.savefig('storm_dano_plot',dpi=300)"
   ]
  },
  {
   "cell_type": "code",
   "execution_count": 10,
   "metadata": {},
   "outputs": [
    {
     "data": {
      "image/png": "[encoded data removed]",
      "text/plain": [
       "<Figure size 432x288 with 1 Axes>"
      ]
     },
     "metadata": {
      "needs_background": "light"
     },
     "output_type": "display_data"
    }
   ],
   "source": [
    "#Boxplot dos dados\n",
    "df_all.boxplot()\n",
    "plt.savefig('storm_hist.png',dpi=300)"
   ]
  },
  {
   "cell_type": "code",
   "execution_count": 11,
   "metadata": {},
   "outputs": [
    {
     "data": {
      "text/html": [
       "<div>\n",
       "<style scoped>\n",
       "    .dataframe tbody tr th:only-of-type {\n",
       "        vertical-align: middle;\n",
       "    }\n",
       "\n",
       "    .dataframe tbody tr th {\n",
       "        vertical-align: top;\n",
       "    }\n",
       "\n",
       "    .dataframe thead th {\n",
       "        text-align: right;\n",
       "    }\n",
       "</style>\n",
       "<table border=\"1\" class=\"dataframe\">\n",
       "  <thead>\n",
       "    <tr style=\"text-align: right;\">\n",
       "      <th></th>\n",
       "      <th>Control</th>\n",
       "      <th>B3y</th>\n",
       "      <th>B1y</th>\n",
       "    </tr>\n",
       "  </thead>\n",
       "  <tbody>\n",
       "    <tr>\n",
       "      <th>count</th>\n",
       "      <td>3.000000</td>\n",
       "      <td>3.000000</td>\n",
       "      <td>3.000000</td>\n",
       "    </tr>\n",
       "    <tr>\n",
       "      <th>mean</th>\n",
       "      <td>37.666667</td>\n",
       "      <td>23.666667</td>\n",
       "      <td>42.000000</td>\n",
       "    </tr>\n",
       "    <tr>\n",
       "      <th>std</th>\n",
       "      <td>23.586719</td>\n",
       "      <td>16.258331</td>\n",
       "      <td>21.794495</td>\n",
       "    </tr>\n",
       "    <tr>\n",
       "      <th>min</th>\n",
       "      <td>13.000000</td>\n",
       "      <td>11.000000</td>\n",
       "      <td>17.000000</td>\n",
       "    </tr>\n",
       "    <tr>\n",
       "      <th>25%</th>\n",
       "      <td>26.500000</td>\n",
       "      <td>14.500000</td>\n",
       "      <td>34.500000</td>\n",
       "    </tr>\n",
       "    <tr>\n",
       "      <th>50%</th>\n",
       "      <td>40.000000</td>\n",
       "      <td>18.000000</td>\n",
       "      <td>52.000000</td>\n",
       "    </tr>\n",
       "    <tr>\n",
       "      <th>75%</th>\n",
       "      <td>50.000000</td>\n",
       "      <td>30.000000</td>\n",
       "      <td>54.500000</td>\n",
       "    </tr>\n",
       "    <tr>\n",
       "      <th>max</th>\n",
       "      <td>60.000000</td>\n",
       "      <td>42.000000</td>\n",
       "      <td>57.000000</td>\n",
       "    </tr>\n",
       "  </tbody>\n",
       "</table>\n",
       "</div>"
      ],
      "text/plain": [
       "         Control        B3y        B1y\n",
       "count   3.000000   3.000000   3.000000\n",
       "mean   37.666667  23.666667  42.000000\n",
       "std    23.586719  16.258331  21.794495\n",
       "min    13.000000  11.000000  17.000000\n",
       "25%    26.500000  14.500000  34.500000\n",
       "50%    40.000000  18.000000  52.000000\n",
       "75%    50.000000  30.000000  54.500000\n",
       "max    60.000000  42.000000  57.000000"
      ]
     },
     "execution_count": 11,
     "metadata": {},
     "output_type": "execute_result"
    }
   ],
   "source": [
    "df_all.describe()"
   ]
  },
  {
   "cell_type": "code",
   "execution_count": 12,
   "metadata": {},
   "outputs": [],
   "source": [
    "#Salva do tipo de dano para todos os plots\n",
    "tipo_dano.plot.bar(color = ['r','g','b'])\n",
    "plt.ylabel('Numbers of trees')\n",
    "plt.xlabel('Damage')\n",
    "plt.title('Kind of damage')\n",
    "plt.xticks(rotation='0')\n",
    "plt.savefig('storm_dano_total.png',dpi=300)\n",
    "plt.close()\n",
    "\n",
    "#Salva do tipo de dano para o plot A\n",
    "tipo_dano_a.plot.bar(color = ['r','g','b'])\n",
    "plt.ylabel('Numbers of trees')\n",
    "plt.xlabel('Damage')\n",
    "plt.title('Kind of damage (Control)')\n",
    "plt.xticks(rotation='0')\n",
    "plt.savefig('storm_dano_a.png',dpi=300)\n",
    "plt.close()\n",
    "\n",
    "#Salva do tipo de dano para o plot B\n",
    "tipo_dano_b.plot.bar(color = ['r','g','b'])\n",
    "plt.ylabel('Numbers of trees')\n",
    "plt.xlabel('Damage')\n",
    "plt.title('Kind of damage (B3y)')\n",
    "plt.xticks(rotation='0')\n",
    "plt.savefig('storm_dano_b.png',dpi=300)\n",
    "plt.close()\n",
    "\n",
    "#Salva do tipo de dano para o plot C\n",
    "tipo_dano_c.plot.bar(color = ['r','g','b'])\n",
    "plt.ylabel('Numbers of trees')\n",
    "plt.xlabel('Damage')\n",
    "plt.title('Kind of damage (B1y)')\n",
    "plt.xticks(rotation='0')\n",
    "plt.savefig('storm_dano_c.png',dpi=300)\n",
    "plt.close()"
   ]
  },
  {
   "cell_type": "code",
   "execution_count": 14,
   "metadata": {},
   "outputs": [
    {
     "data": {
      "image/png": "[encoded data removed]",
      "text/plain": [
       "<Figure size 1296x864 with 4 Axes>"
      ]
     },
     "metadata": {
      "needs_background": "light"
     },
     "output_type": "display_data"
    }
   ],
   "source": [
    "#Salva do tipo de dano para todos os plots\n",
    "plt.figure(figsize=(18, 12))\n",
    "\n",
    "plt.subplot(321)\n",
    "tipo_dano.plot.bar(color = ['r','g','b'])\n",
    "plt.text(2, tipo_dano.max(), f'Total: {tipo_dano.sum()}',\n",
    "          size=12,\n",
    "         horizontalalignment='center',\n",
    "         verticalalignment='top',\n",
    "         multialignment='center')\n",
    "plt.ylabel('Numbers of trees')\n",
    "plt.xlabel('Damage')\n",
    "plt.title('Kind of damage')\n",
    "plt.xticks(rotation='0')\n",
    "# plt.savefig('storm_dano_total.png',dpi=300)\n",
    "# plt.close()\n",
    "\n",
    "#Salva do tipo de dano para o plot A\n",
    "plt.subplot(322)\n",
    "tipo_dano_a.plot.bar(color = ['r','g','b'])\n",
    "plt.text(2, tipo_dano_a.max(), f'Total: {tipo_dano_a.sum()}',\n",
    "          size=12,\n",
    "         horizontalalignment='center',\n",
    "         verticalalignment='top',\n",
    "         multialignment='center')\n",
    "plt.ylabel('Numbers of trees')\n",
    "plt.xlabel('Damage')\n",
    "plt.title('Kind of damage (Control)')\n",
    "plt.xticks(rotation='0')\n",
    "# plt.savefig('storm_dano_a.png',dpi=300)\n",
    "# plt.close()\n",
    "\n",
    "#Salva do tipo de dano para o plot B\n",
    "plt.subplot(323)\n",
    "tipo_dano_b.plot.bar(color = ['r','g','b'])\n",
    "plt.text(2, tipo_dano_b.max(), f'Total: {tipo_dano_b.sum()}',\n",
    "          size=12,\n",
    "         horizontalalignment='center',\n",
    "         verticalalignment='top',\n",
    "         multialignment='center')\n",
    "plt.ylabel('Numbers of trees')\n",
    "plt.xlabel('Damage')\n",
    "plt.title('Kind of damage (B3y)')\n",
    "plt.xticks(rotation='0')\n",
    "# plt.savefig('storm_dano_b.png',dpi=300)\n",
    "# plt.close()\n",
    "\n",
    "#Salva do tipo de dano para o plot C\n",
    "plt.subplot(324)\n",
    "tipo_dano_c.plot.bar(color = ['r','g','b'])\n",
    "plt.text(2, tipo_dano_c.max(), f'Total: {tipo_dano_c.sum()}',\n",
    "          size=12,\n",
    "         horizontalalignment='center',\n",
    "         verticalalignment='top',\n",
    "         multialignment='center')\n",
    "plt.ylabel('Numbers of trees')\n",
    "plt.xlabel('Damage')\n",
    "plt.title('Kind of damage (B1y)')\n",
    "plt.xticks(rotation='0')\n",
    "plt.subplots_adjust(hspace=0.35,\n",
    "                    wspace=0.1)\n",
    "\n",
    "plt.savefig('storm_dano_all.png',dpi=300)\n"
   ]
  }
 ],
 "metadata": {
  "kernelspec": {
   "display_name": "Python 3",
   "language": "python",
   "name": "python3"
  },
  "language_info": {
   "codemirror_mode": {
    "name": "ipython",
    "version": 3
   },
   "file_extension": ".py",
   "mimetype": "text/x-python",
   "name": "python",
   "nbconvert_exporter": "python",
   "pygments_lexer": "ipython3",
   "version": "3.7.3"
  }
 },
 "nbformat": 4,
 "nbformat_minor": 2
}

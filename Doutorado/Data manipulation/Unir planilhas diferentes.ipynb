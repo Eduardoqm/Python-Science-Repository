{
 "cells": [
  {
   "cell_type": "code",
   "execution_count": 96,
   "metadata": {},
   "outputs": [],
   "source": [
    "#Importa o panda\n",
    "import pandas as pd\n",
    "import matplotlib.pyplot as plt\n",
    "import numpy as np"
   ]
  },
  {
   "cell_type": "code",
   "execution_count": 97,
   "metadata": {},
   "outputs": [],
   "source": [
    "#Chama as planilhas de levantamento e do vento\n",
    "a=pd.read_excel(\"C:/Users/Eduardo Q Marques/Documents/My Jobs/Doutorado/Campo vento/Planilhas conferir dados/Censo_5a10cm_2018.xlsx\")\n",
    "b=pd.read_excel(\"C:/Users/Eduardo Q Marques/Documents/My Jobs/Doutorado/Campo vento/Planilhas conferir dados/Censo_10a20cm_2018.xlsx\")\n",
    "c=pd.read_excel(\"C:/Users/Eduardo Q Marques/Documents/My Jobs/Doutorado/Campo vento/Planilhas conferir dados/Censo_40cm_2018.xlsx\")\n",
    "d=pd.read_excel(\"C:/Users/Eduardo Q Marques/Documents/My Jobs/Doutorado/Campo vento/Planilhas conferir dados/Recrutas_Censo_5a10cm_2018.xlsx\")\n",
    "e=pd.read_excel(\"C:/Users/Eduardo Q Marques/Documents/My Jobs/Doutorado/Campo vento/Planilhas conferir dados/Recrutas_Censo_10a20cm_2018.xlsx\")\n",
    "f=pd.read_excel(\"C:/Users/Eduardo Q Marques/Documents/My Jobs/Doutorado/Campo vento/Planilhas conferir dados/Recrutas_Censo_40cm_2018.xlsx\")\n",
    "storm_data=pd.read_excel(\"C:/Users/Eduardo Q Marques/Documents/My Jobs/Doutorado/Campo vento/planilha_campo_vento2019_B.xlsx\")"
   ]
  },
  {
   "cell_type": "code",
   "execution_count": 98,
   "metadata": {},
   "outputs": [
    {
     "name": "stderr",
     "output_type": "stream",
     "text": [
      "c:\\users\\eduardo q marques\\appdata\\local\\programs\\python\\python37-32\\lib\\site-packages\\ipykernel_launcher.py:2: FutureWarning: Sorting because non-concatenation axis is not aligned. A future version\n",
      "of pandas will change to not sort by default.\n",
      "\n",
      "To accept the future behavior, pass 'sort=False'.\n",
      "\n",
      "To retain the current behavior and silence the warning, pass 'sort=True'.\n",
      "\n",
      "  \n"
     ]
    }
   ],
   "source": [
    "#Unir as planilhas de levantamento\n",
    "df_matrix = pd.concat([a, b, c, d, e, f], ignore_index=True)\n",
    "#df_matrix"
   ]
  },
  {
   "cell_type": "code",
   "execution_count": 99,
   "metadata": {},
   "outputs": [],
   "source": [
    "#Unir a matrix de levantamento com a tempestade\n",
    "#storm_full = pd.merge(storm_data, df_matrix, on='placa', how='outer') #junta tudo, até os que não deu match\n",
    "storm_full = pd.merge(storm_data, df_matrix, on='placa', how='inner') #junta só os que da match\n"
   ]
  },
  {
   "cell_type": "code",
   "execution_count": 112,
   "metadata": {},
   "outputs": [],
   "source": [
    "#Exportando planilha no formato CSV\n",
    "storm_full.to_csv(r'C:/Users/Eduardo Q Marques/Documents/My Jobs/Doutorado/Campo vento/storm_data_full.csv', index = None, header=True)"
   ]
  }
 ],
 "metadata": {
  "kernelspec": {
   "display_name": "Python 3",
   "language": "python",
   "name": "python3"
  },
  "language_info": {
   "codemirror_mode": {
    "name": "ipython",
    "version": 3
   },
   "file_extension": ".py",
   "mimetype": "text/x-python",
   "name": "python",
   "nbconvert_exporter": "python",
   "pygments_lexer": "ipython3",
   "version": "3.7.2"
  }
 },
 "nbformat": 4,
 "nbformat_minor": 2
}
